{
 "cells": [
  {
   "cell_type": "code",
   "execution_count": 1,
   "metadata": {
    "execution": {
     "iopub.execute_input": "2020-10-03T15:52:07.780592Z",
     "iopub.status.busy": "2020-10-03T15:52:07.779753Z",
     "iopub.status.idle": "2020-10-03T15:52:10.557379Z",
     "shell.execute_reply": "2020-10-03T15:52:10.556561Z"
    },
    "papermill": {
     "duration": 2.797961,
     "end_time": "2020-10-03T15:52:10.557511",
     "exception": false,
     "start_time": "2020-10-03T15:52:07.759550",
     "status": "completed"
    },
    "tags": []
   },
   "outputs": [],
   "source": [
    "import os\n",
    "import gc\n",
    "import random\n",
    "import math\n",
    "import time\n",
    "import numpy as np\n",
    "import pandas as pd\n",
    "\n",
    "import category_encoders as ce\n",
    "import matplotlib.pyplot as plt\n",
    "from plotly.subplots import make_subplots\n",
    "import plotly.graph_objects as go\n",
    "from sklearn import preprocessing, decomposition\n",
    "\n",
    "import torch\n",
    "import torch.nn as nn\n",
    "from torch.utils.data import DataLoader, Dataset\n",
    "import torch.optim as optim\n",
    "import torch.nn.functional as F\n",
    "import torchvision\n",
    "device = torch.device(\"cuda\" if torch.cuda.is_available() else \"cpu\")"
   ]
  },
  {
   "cell_type": "code",
   "execution_count": 2,
   "metadata": {},
   "outputs": [],
   "source": [
    "#Hyperparameters\n",
    "batch_size = 100\n",
    "val_size = 2000\n",
    "epochs = 60\n",
    "learning_rate = 1e-4\n",
    "hidden_size_1 = 600\n",
    "hidden_size_2 = 400\n",
    "#Constants\n",
    "feature_size = 874\n",
    "lable_size = 206"
   ]
  },
  {
   "cell_type": "code",
   "execution_count": 3,
   "metadata": {
    "_cell_guid": "79c7e3d0-c299-4dcb-8224-4455121ee9b0",
    "_uuid": "d629ff2d2480ee46fbb7e2d37f6b5fab8052498a",
    "execution": {
     "iopub.execute_input": "2020-10-03T15:52:10.983819Z",
     "iopub.status.busy": "2020-10-03T15:52:10.982835Z",
     "iopub.status.idle": "2020-10-03T15:52:17.157244Z",
     "shell.execute_reply": "2020-10-03T15:52:17.156439Z"
    },
    "papermill": {
     "duration": 6.195155,
     "end_time": "2020-10-03T15:52:17.157383",
     "exception": false,
     "start_time": "2020-10-03T15:52:10.962228",
     "status": "completed"
    },
    "tags": []
   },
   "outputs": [],
   "source": [
    "train_features = pd.read_csv('Data/train_features.csv')\n",
    "train_targets_scored = pd.read_csv('Data/train_targets_scored.csv')\n",
    "train_targets_nonscored = pd.read_csv('Data/train_targets_nonscored.csv')\n",
    "test_features = pd.read_csv('Data/test_features.csv')\n",
    "submission = pd.read_csv('Data/sample_submission.csv')"
   ]
  },
  {
   "cell_type": "code",
   "execution_count": 4,
   "metadata": {
    "execution": {
     "iopub.execute_input": "2020-10-03T15:52:17.240033Z",
     "iopub.status.busy": "2020-10-03T15:52:17.238727Z",
     "iopub.status.idle": "2020-10-03T15:52:17.548227Z",
     "shell.execute_reply": "2020-10-03T15:52:17.548966Z"
    },
    "papermill": {
     "duration": 0.334094,
     "end_time": "2020-10-03T15:52:17.549146",
     "exception": false,
     "start_time": "2020-10-03T15:52:17.215052",
     "status": "completed"
    },
    "tags": []
   },
   "outputs": [
    {
     "name": "stdout",
     "output_type": "stream",
     "text": [
      "(23814, 876) (3982, 876)\n",
      "(21948, 1082) (3982, 876)\n"
     ]
    }
   ],
   "source": [
    "train = train_features.merge(train_targets_scored, on='sig_id')\n",
    "# constrcut train&test except 'cp_type'=='ctl_vehicle' data\n",
    "print(train_features.shape, test_features.shape)\n",
    "train = train[train['cp_type']!='ctl_vehicle'].reset_index(drop=True)\n",
    "#test = test_features[test_features['cp_type']!='ctl_vehicle'].reset_index(drop=True)\n",
    "test = test_features\n",
    "\n",
    "print(train.shape, test.shape)"
   ]
  },
  {
   "cell_type": "code",
   "execution_count": 5,
   "metadata": {
    "execution": {
     "iopub.execute_input": "2020-10-03T15:52:17.586955Z",
     "iopub.status.busy": "2020-10-03T15:52:17.586047Z",
     "iopub.status.idle": "2020-10-03T15:52:17.596968Z",
     "shell.execute_reply": "2020-10-03T15:52:17.597448Z"
    },
    "papermill": {
     "duration": 0.033725,
     "end_time": "2020-10-03T15:52:17.597588",
     "exception": false,
     "start_time": "2020-10-03T15:52:17.563863",
     "status": "completed"
    },
    "tags": []
   },
   "outputs": [],
   "source": [
    "train['cp_time'] = train['cp_time'].map({24: -1, 48: 0, 72: 1})\n",
    "train['cp_dose'] = train['cp_dose'].map({'D1': -0.5, 'D2': 0.5})\n",
    "\n",
    "test['cp_time'] = test['cp_time'].map({24: -1, 48: 0, 72: 1})\n",
    "test['cp_dose'] = test['cp_dose'].map({'D1': -0.5, 'D2': 0.5})"
   ]
  },
  {
   "cell_type": "code",
   "execution_count": 6,
   "metadata": {
    "execution": {
     "iopub.execute_input": "2020-10-03T15:52:17.636939Z",
     "iopub.status.busy": "2020-10-03T15:52:17.635584Z",
     "iopub.status.idle": "2020-10-03T15:52:24.446656Z",
     "shell.execute_reply": "2020-10-03T15:52:24.447816Z"
    },
    "papermill": {
     "duration": 6.834381,
     "end_time": "2020-10-03T15:52:24.448028",
     "exception": false,
     "start_time": "2020-10-03T15:52:17.613647",
     "status": "completed"
    },
    "tags": []
   },
   "outputs": [],
   "source": [
    "train = train.to_numpy()\n",
    "test = test.to_numpy()\n",
    "dist_len = 99 + 771\n",
    "for d in range(dist_len):\n",
    "    train[::, 4+d]  = preprocessing.scale(train[::, 4+d])\n",
    "    test[::, 4+d]  = preprocessing.scale(test[::, 4+d])\n",
    "train = train[::, 2:].astype('float64') \n",
    "test = test[::, 2:].astype('float64')"
   ]
  },
  {
   "cell_type": "code",
   "execution_count": 7,
   "metadata": {
    "execution": {
     "iopub.execute_input": "2020-10-03T15:52:24.507435Z",
     "iopub.status.busy": "2020-10-03T15:52:24.506433Z",
     "iopub.status.idle": "2020-10-03T15:52:24.676513Z",
     "shell.execute_reply": "2020-10-03T15:52:24.674951Z"
    },
    "papermill": {
     "duration": 0.20576,
     "end_time": "2020-10-03T15:52:24.676681",
     "exception": false,
     "start_time": "2020-10-03T15:52:24.470921",
     "status": "completed"
    },
    "tags": []
   },
   "outputs": [],
   "source": [
    "val = train[:val_size, :feature_size]\n",
    "train_d = train[val_size:, :feature_size]\n",
    "\n",
    "lables_train = train[val_size:, feature_size:]\n",
    "lables_val = train[:val_size, feature_size:]\n",
    "\n",
    "dataset = torch.utils.data.TensorDataset( torch.Tensor(train_d), torch.Tensor(lables_train) )\n",
    "validationset = torch.utils.data.TensorDataset( torch.Tensor(val), torch.Tensor(lables_val) )\n",
    "\n",
    "transform = torchvision.transforms.Compose([torchvision.transforms.ToTensor()])\n",
    "\n",
    "train_loader = torch.utils.data.DataLoader(\n",
    "    dataset, batch_size=batch_size, shuffle=True, pin_memory=True)\n",
    "\n",
    "test_loader = torch.utils.data.DataLoader(\n",
    "    validationset, batch_size=batch_size, shuffle=True, pin_memory=True)\n",
    "\n",
    "pred_loader = torch.utils.data.DataLoader(\n",
    "    test, batch_size=batch_size, shuffle=True, pin_memory=True)"
   ]
  },
  {
   "cell_type": "code",
   "execution_count": 8,
   "metadata": {
    "execution": {
     "iopub.execute_input": "2020-10-03T15:52:24.740320Z",
     "iopub.status.busy": "2020-10-03T15:52:24.732908Z",
     "iopub.status.idle": "2020-10-03T15:52:24.743985Z",
     "shell.execute_reply": "2020-10-03T15:52:24.744738Z"
    },
    "papermill": {
     "duration": 0.046719,
     "end_time": "2020-10-03T15:52:24.744905",
     "exception": false,
     "start_time": "2020-10-03T15:52:24.698186",
     "status": "completed"
    },
    "tags": []
   },
   "outputs": [],
   "source": [
    "class NN(nn.Module):\n",
    "    def __init__(self, **kwargs):\n",
    "        super().__init__()\n",
    "        self.ilayer = nn.Linear(in_features=feature_size, out_features= feature_size)\n",
    "        self.bnorm1 = nn.BatchNorm1d(feature_size)\n",
    "        self.drop1 = nn.Dropout(0.2)\n",
    "        self.hlayer1 = nn.Linear(in_features= feature_size, out_features= hidden_size_1)\n",
    "        self.bnorm2 = nn.BatchNorm1d(hidden_size_1)\n",
    "        self.drop2 = nn.Dropout(0.5)\n",
    "        self.hlayer2 = nn.Linear(in_features= hidden_size_1, out_features= hidden_size_2)\n",
    "        self.bnorm3 = nn.BatchNorm1d(hidden_size_2)\n",
    "        self.drop3 = nn.Dropout(0.5)\n",
    "        self.olayer = nn.Linear(in_features= hidden_size_2, out_features= lable_size)\n",
    "        self.relu = nn.ReLU()\n",
    "        \n",
    "    def forward(self, x):\n",
    "        x = self.ilayer(x)\n",
    "        x = self.relu(x)\n",
    "        x = self.bnorm1(x)\n",
    "        x = self.drop1(x)\n",
    "        x = self.hlayer1(x)\n",
    "        x = self.relu(x)\n",
    "        x = self.bnorm2(x)\n",
    "        x = self.drop2(x)  \n",
    "        x = self.hlayer2(x)\n",
    "        x = self.relu(x)\n",
    "        x = self.bnorm3(x)\n",
    "        x = self.drop3(x)      \n",
    "        x = self.olayer(x)\n",
    "        return x"
   ]
  },
  {
   "cell_type": "code",
   "execution_count": 9,
   "metadata": {
    "execution": {
     "iopub.execute_input": "2020-10-03T15:52:24.800745Z",
     "iopub.status.busy": "2020-10-03T15:52:24.799839Z",
     "iopub.status.idle": "2020-10-03T15:52:30.159911Z",
     "shell.execute_reply": "2020-10-03T15:52:30.159315Z"
    },
    "papermill": {
     "duration": 5.390771,
     "end_time": "2020-10-03T15:52:30.160038",
     "exception": false,
     "start_time": "2020-10-03T15:52:24.769267",
     "status": "completed"
    },
    "tags": []
   },
   "outputs": [],
   "source": [
    "model = NN().to(device)\n",
    "optimizer = optim.Adam(model.parameters(), lr=learning_rate)"
   ]
  },
  {
   "cell_type": "code",
   "execution_count": 10,
   "metadata": {
    "execution": {
     "iopub.execute_input": "2020-10-03T15:52:30.208489Z",
     "iopub.status.busy": "2020-10-03T15:52:30.207751Z",
     "iopub.status.idle": "2020-10-03T15:52:54.545588Z",
     "shell.execute_reply": "2020-10-03T15:52:54.544575Z"
    },
    "papermill": {
     "duration": 24.370155,
     "end_time": "2020-10-03T15:52:54.545715",
     "exception": false,
     "start_time": "2020-10-03T15:52:30.175560",
     "status": "completed"
    },
    "tags": []
   },
   "outputs": [
    {
     "name": "stdout",
     "output_type": "stream",
     "text": [
      "Validation: epoch : 0/60, loss = 0.7088\n",
      "epoch : 1/60, loss = 0.7113\n",
      "Validation: epoch : 1/60, loss = 0.6180\n",
      "epoch : 2/60, loss = 0.6185\n",
      "Validation: epoch : 2/60, loss = 0.4668\n",
      "epoch : 3/60, loss = 0.4814\n",
      "Validation: epoch : 3/60, loss = 0.2939\n",
      "epoch : 4/60, loss = 0.2880\n",
      "Validation: epoch : 4/60, loss = 0.1782\n",
      "epoch : 5/60, loss = 0.1594\n",
      "Validation: epoch : 5/60, loss = 0.1063\n",
      "epoch : 6/60, loss = 0.1162\n",
      "Validation: epoch : 6/60, loss = 0.0782\n",
      "epoch : 7/60, loss = 0.0773\n",
      "Validation: epoch : 7/60, loss = 0.0527\n",
      "epoch : 8/60, loss = 0.0546\n",
      "Validation: epoch : 8/60, loss = 0.0452\n",
      "epoch : 9/60, loss = 0.0942\n",
      "Validation: epoch : 9/60, loss = 0.0373\n",
      "epoch : 10/60, loss = 0.0348\n",
      "Validation: epoch : 10/60, loss = 0.0356\n",
      "epoch : 11/60, loss = 0.0305\n",
      "Validation: epoch : 11/60, loss = 0.0299\n",
      "epoch : 12/60, loss = 0.0352\n",
      "Validation: epoch : 12/60, loss = 0.0435\n",
      "epoch : 13/60, loss = 0.0277\n",
      "Validation: epoch : 13/60, loss = 0.0274\n",
      "epoch : 14/60, loss = 0.0249\n",
      "Validation: epoch : 14/60, loss = 0.0248\n",
      "epoch : 15/60, loss = 0.0231\n",
      "Validation: epoch : 15/60, loss = 0.0238\n",
      "epoch : 16/60, loss = 0.0246\n",
      "Validation: epoch : 16/60, loss = 0.0233\n",
      "epoch : 17/60, loss = 0.0223\n",
      "Validation: epoch : 17/60, loss = 0.0238\n",
      "epoch : 18/60, loss = 0.0218\n",
      "Validation: epoch : 18/60, loss = 0.0240\n",
      "epoch : 19/60, loss = 0.0270\n",
      "Validation: epoch : 19/60, loss = 0.0226\n",
      "epoch : 20/60, loss = 0.0245\n",
      "Validation: epoch : 20/60, loss = 0.0228\n",
      "epoch : 21/60, loss = 0.0199\n",
      "Validation: epoch : 21/60, loss = 0.0200\n",
      "epoch : 22/60, loss = 0.0198\n",
      "Validation: epoch : 22/60, loss = 0.0230\n",
      "epoch : 23/60, loss = 0.0210\n",
      "Validation: epoch : 23/60, loss = 0.0229\n",
      "epoch : 24/60, loss = 0.0206\n",
      "Validation: epoch : 24/60, loss = 0.0192\n",
      "epoch : 25/60, loss = 0.0224\n",
      "Validation: epoch : 25/60, loss = 0.0215\n",
      "epoch : 26/60, loss = 0.0179\n",
      "Validation: epoch : 26/60, loss = 0.0218\n",
      "epoch : 27/60, loss = 0.0134\n",
      "Validation: epoch : 27/60, loss = 0.0171\n",
      "epoch : 28/60, loss = 0.0177\n",
      "Validation: epoch : 28/60, loss = 0.0207\n",
      "epoch : 29/60, loss = 0.0236\n",
      "Validation: epoch : 29/60, loss = 0.0177\n",
      "epoch : 30/60, loss = 0.0197\n",
      "Validation: epoch : 30/60, loss = 0.0195\n",
      "epoch : 31/60, loss = 0.0165\n",
      "Validation: epoch : 31/60, loss = 0.0178\n",
      "epoch : 32/60, loss = 0.0258\n",
      "Validation: epoch : 32/60, loss = 0.0207\n",
      "epoch : 33/60, loss = 0.0189\n",
      "Validation: epoch : 33/60, loss = 0.0180\n",
      "epoch : 34/60, loss = 0.0211\n"
     ]
    }
   ],
   "source": [
    "epoch_list = []\n",
    "val_list = []\n",
    "\n",
    "for epoch in range(epochs):\n",
    "    train_loss_en = 0\n",
    "    train_loss_de = 0\n",
    "    loss = 0\n",
    "    \n",
    "    for x, y in train_loader:\n",
    "        \n",
    "        x = x.to(device)\n",
    "        y = y.to(device)\n",
    "        optimizer.zero_grad()\n",
    "        \n",
    "        outputs = model.forward(x.float())\n",
    "        # compute training reconstruction loss\n",
    "        train_loss = nn.BCEWithLogitsLoss()(outputs, y)\n",
    "\n",
    "        # compute accumulated gradients\n",
    "        train_loss.backward()\n",
    "\n",
    "        # perform parameter update based on current gradients\n",
    "        optimizer.step()\n",
    " \n",
    "        # add the mini-batch training loss to epoch loss\n",
    "        loss += train_loss_en\n",
    "\n",
    "    if (epoch % 1) == 0:\n",
    "        val_loss_en = 0 \n",
    "        val_loss_de = 0\n",
    "\n",
    "        for x, y in test_loader:\n",
    "            x = x.to(device)\n",
    "            y = y.to(device)\n",
    "            outputs = model.forward(x.float())\n",
    "            val_loss = nn.BCEWithLogitsLoss()(outputs, y)\n",
    "\n",
    "\n",
    "        val_loss = val_loss.cpu().detach().numpy()\n",
    "\n",
    "        val_list.append(val_loss)\n",
    "       \n",
    "        epoch_list.append(epoch)\n",
    "        \n",
    "        if epoch >= 10:\n",
    "            if all((i <= val_list[-1]) for i in val_list[-6:-1]):\n",
    "                break \n",
    "\n",
    "        print(\"Validation: epoch : {}/{}, loss = {:.4f}\".format(epoch, epochs, val_loss))\n",
    "\n",
    "\n",
    "    # display the epoch training loss\n",
    "    print(\"epoch : {}/{}, loss = {:.4f}\".format(epoch + 1, epochs, train_loss))"
   ]
  },
  {
   "cell_type": "code",
   "execution_count": 11,
   "metadata": {
    "execution": {
     "iopub.execute_input": "2020-10-03T15:52:54.601321Z",
     "iopub.status.busy": "2020-10-03T15:52:54.600121Z",
     "iopub.status.idle": "2020-10-03T15:52:54.695740Z",
     "shell.execute_reply": "2020-10-03T15:52:54.695173Z"
    },
    "papermill": {
     "duration": 0.126804,
     "end_time": "2020-10-03T15:52:54.695848",
     "exception": false,
     "start_time": "2020-10-03T15:52:54.569044",
     "status": "completed"
    },
    "tags": []
   },
   "outputs": [],
   "source": [
    "model.eval()\n",
    "pred_encode = np.empty(shape = (test.shape[0], lable_size))\n",
    "i = 1\n",
    "for x in pred_loader:\n",
    "    x = x.to(device)\n",
    "    outputs = model.forward(x.float())\n",
    "    pred_encode[((i-1)*(outputs.shape[0])):(i*(outputs.shape[0])), ::] = outputs.sigmoid().cpu().detach().numpy()\n",
    "    i += 1"
   ]
  },
  {
   "cell_type": "code",
   "execution_count": 12,
   "metadata": {
    "execution": {
     "iopub.execute_input": "2020-10-03T15:52:54.751705Z",
     "iopub.status.busy": "2020-10-03T15:52:54.751027Z",
     "iopub.status.idle": "2020-10-03T15:52:54.790527Z",
     "shell.execute_reply": "2020-10-03T15:52:54.789901Z"
    },
    "papermill": {
     "duration": 0.071463,
     "end_time": "2020-10-03T15:52:54.790658",
     "exception": false,
     "start_time": "2020-10-03T15:52:54.719195",
     "status": "completed"
    },
    "tags": []
   },
   "outputs": [
    {
     "data": {
      "text/html": [
       "<div>\n",
       "<style scoped>\n",
       "    .dataframe tbody tr th:only-of-type {\n",
       "        vertical-align: middle;\n",
       "    }\n",
       "\n",
       "    .dataframe tbody tr th {\n",
       "        vertical-align: top;\n",
       "    }\n",
       "\n",
       "    .dataframe thead th {\n",
       "        text-align: right;\n",
       "    }\n",
       "</style>\n",
       "<table border=\"1\" class=\"dataframe\">\n",
       "  <thead>\n",
       "    <tr style=\"text-align: right;\">\n",
       "      <th></th>\n",
       "      <th>sig_id</th>\n",
       "      <th>5-alpha_reductase_inhibitor</th>\n",
       "      <th>11-beta-hsd1_inhibitor</th>\n",
       "      <th>acat_inhibitor</th>\n",
       "      <th>acetylcholine_receptor_agonist</th>\n",
       "      <th>acetylcholine_receptor_antagonist</th>\n",
       "      <th>acetylcholinesterase_inhibitor</th>\n",
       "      <th>adenosine_receptor_agonist</th>\n",
       "      <th>adenosine_receptor_antagonist</th>\n",
       "      <th>adenylyl_cyclase_activator</th>\n",
       "      <th>...</th>\n",
       "      <th>tropomyosin_receptor_kinase_inhibitor</th>\n",
       "      <th>trpv_agonist</th>\n",
       "      <th>trpv_antagonist</th>\n",
       "      <th>tubulin_inhibitor</th>\n",
       "      <th>tyrosine_kinase_inhibitor</th>\n",
       "      <th>ubiquitin_specific_protease_inhibitor</th>\n",
       "      <th>vegfr_inhibitor</th>\n",
       "      <th>vitamin_b</th>\n",
       "      <th>vitamin_d_receptor_agonist</th>\n",
       "      <th>wnt_inhibitor</th>\n",
       "    </tr>\n",
       "  </thead>\n",
       "  <tbody>\n",
       "    <tr>\n",
       "      <th>0</th>\n",
       "      <td>id_0004d9e33</td>\n",
       "      <td>0.001004</td>\n",
       "      <td>0.001001</td>\n",
       "      <td>0.001313</td>\n",
       "      <td>0.009323</td>\n",
       "      <td>0.010531</td>\n",
       "      <td>0.002885</td>\n",
       "      <td>0.002270</td>\n",
       "      <td>0.004002</td>\n",
       "      <td>0.000909</td>\n",
       "      <td>...</td>\n",
       "      <td>0.000711</td>\n",
       "      <td>0.001203</td>\n",
       "      <td>0.002053</td>\n",
       "      <td>0.002720</td>\n",
       "      <td>0.003334</td>\n",
       "      <td>0.000818</td>\n",
       "      <td>0.00899</td>\n",
       "      <td>0.001361</td>\n",
       "      <td>0.002092</td>\n",
       "      <td>0.001486</td>\n",
       "    </tr>\n",
       "    <tr>\n",
       "      <th>1</th>\n",
       "      <td>id_001897cda</td>\n",
       "      <td>0.001116</td>\n",
       "      <td>0.001299</td>\n",
       "      <td>0.001267</td>\n",
       "      <td>0.012988</td>\n",
       "      <td>0.021447</td>\n",
       "      <td>0.003822</td>\n",
       "      <td>0.003586</td>\n",
       "      <td>0.004904</td>\n",
       "      <td>0.000841</td>\n",
       "      <td>...</td>\n",
       "      <td>0.000734</td>\n",
       "      <td>0.001117</td>\n",
       "      <td>0.002497</td>\n",
       "      <td>0.004187</td>\n",
       "      <td>0.002766</td>\n",
       "      <td>0.000867</td>\n",
       "      <td>0.00367</td>\n",
       "      <td>0.001628</td>\n",
       "      <td>0.002159</td>\n",
       "      <td>0.001549</td>\n",
       "    </tr>\n",
       "    <tr>\n",
       "      <th>2</th>\n",
       "      <td>id_002429b5b</td>\n",
       "      <td>0.000000</td>\n",
       "      <td>0.000000</td>\n",
       "      <td>0.000000</td>\n",
       "      <td>0.000000</td>\n",
       "      <td>0.000000</td>\n",
       "      <td>0.000000</td>\n",
       "      <td>0.000000</td>\n",
       "      <td>0.000000</td>\n",
       "      <td>0.000000</td>\n",
       "      <td>...</td>\n",
       "      <td>0.000000</td>\n",
       "      <td>0.000000</td>\n",
       "      <td>0.000000</td>\n",
       "      <td>0.000000</td>\n",
       "      <td>0.000000</td>\n",
       "      <td>0.000000</td>\n",
       "      <td>0.00000</td>\n",
       "      <td>0.000000</td>\n",
       "      <td>0.000000</td>\n",
       "      <td>0.000000</td>\n",
       "    </tr>\n",
       "  </tbody>\n",
       "</table>\n",
       "<p>3 rows × 207 columns</p>\n",
       "</div>"
      ],
      "text/plain": [
       "         sig_id  5-alpha_reductase_inhibitor  11-beta-hsd1_inhibitor  \\\n",
       "0  id_0004d9e33                     0.001004                0.001001   \n",
       "1  id_001897cda                     0.001116                0.001299   \n",
       "2  id_002429b5b                     0.000000                0.000000   \n",
       "\n",
       "   acat_inhibitor  acetylcholine_receptor_agonist  \\\n",
       "0        0.001313                        0.009323   \n",
       "1        0.001267                        0.012988   \n",
       "2        0.000000                        0.000000   \n",
       "\n",
       "   acetylcholine_receptor_antagonist  acetylcholinesterase_inhibitor  \\\n",
       "0                           0.010531                        0.002885   \n",
       "1                           0.021447                        0.003822   \n",
       "2                           0.000000                        0.000000   \n",
       "\n",
       "   adenosine_receptor_agonist  adenosine_receptor_antagonist  \\\n",
       "0                    0.002270                       0.004002   \n",
       "1                    0.003586                       0.004904   \n",
       "2                    0.000000                       0.000000   \n",
       "\n",
       "   adenylyl_cyclase_activator  ...  tropomyosin_receptor_kinase_inhibitor  \\\n",
       "0                    0.000909  ...                               0.000711   \n",
       "1                    0.000841  ...                               0.000734   \n",
       "2                    0.000000  ...                               0.000000   \n",
       "\n",
       "   trpv_agonist  trpv_antagonist  tubulin_inhibitor  \\\n",
       "0      0.001203         0.002053           0.002720   \n",
       "1      0.001117         0.002497           0.004187   \n",
       "2      0.000000         0.000000           0.000000   \n",
       "\n",
       "   tyrosine_kinase_inhibitor  ubiquitin_specific_protease_inhibitor  \\\n",
       "0                   0.003334                               0.000818   \n",
       "1                   0.002766                               0.000867   \n",
       "2                   0.000000                               0.000000   \n",
       "\n",
       "   vegfr_inhibitor  vitamin_b  vitamin_d_receptor_agonist  wnt_inhibitor  \n",
       "0          0.00899   0.001361                    0.002092       0.001486  \n",
       "1          0.00367   0.001628                    0.002159       0.001549  \n",
       "2          0.00000   0.000000                    0.000000       0.000000  \n",
       "\n",
       "[3 rows x 207 columns]"
      ]
     },
     "execution_count": 12,
     "metadata": {},
     "output_type": "execute_result"
    }
   ],
   "source": [
    "# take a copy of all our training sig_ids for reference\n",
    "test_sig_ids = test_features['sig_id'].copy()\n",
    "\n",
    "# select all indices when 'cp_type' is 'ctl_vehicle'\n",
    "test_ctl_vehicle_idx = (test_features['cp_type'] == 'ctl_vehicle')\n",
    "\n",
    "# change all cp_type == ctl_vehicle predictions to zero\n",
    "pred_encode[test_sig_ids[test_ctl_vehicle_idx].index.values] = 0\n",
    "test_submission = pd.DataFrame({'sig_id' : test_sig_ids})\n",
    "test_preds_df = pd.DataFrame(pred_encode, columns=train_targets_scored.columns[1:])\n",
    "test_submission = pd.concat([test_submission, test_preds_df], axis=1)\n",
    "test_submission.head(3)"
   ]
  },
  {
   "cell_type": "code",
   "execution_count": 13,
   "metadata": {
    "execution": {
     "iopub.execute_input": "2020-10-03T15:52:54.849482Z",
     "iopub.status.busy": "2020-10-03T15:52:54.848574Z",
     "iopub.status.idle": "2020-10-03T15:52:57.019352Z",
     "shell.execute_reply": "2020-10-03T15:52:57.018223Z"
    },
    "papermill": {
     "duration": 2.202021,
     "end_time": "2020-10-03T15:52:57.019481",
     "exception": false,
     "start_time": "2020-10-03T15:52:54.817460",
     "status": "completed"
    },
    "tags": []
   },
   "outputs": [],
   "source": [
    "test_submission.to_csv('submission.csv', index=False)"
   ]
  },
  {
   "cell_type": "code",
   "execution_count": null,
   "metadata": {},
   "outputs": [],
   "source": []
  }
 ],
 "metadata": {
  "kernelspec": {
   "display_name": "Python 3",
   "language": "python",
   "name": "python3"
  },
  "language_info": {
   "codemirror_mode": {
    "name": "ipython",
    "version": 3
   },
   "file_extension": ".py",
   "mimetype": "text/x-python",
   "name": "python",
   "nbconvert_exporter": "python",
   "pygments_lexer": "ipython3",
   "version": "3.7.6"
  },
  "papermill": {
   "duration": 54.879322,
   "end_time": "2020-10-03T15:52:58.256922",
   "environment_variables": {},
   "exception": null,
   "input_path": "__notebook__.ipynb",
   "output_path": "__notebook__.ipynb",
   "parameters": {},
   "start_time": "2020-10-03T15:52:03.377600",
   "version": "2.1.0"
  }
 },
 "nbformat": 4,
 "nbformat_minor": 4
}
