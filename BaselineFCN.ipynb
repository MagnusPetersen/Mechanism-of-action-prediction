{
 "cells": [
  {
   "cell_type": "code",
   "execution_count": 2,
   "metadata": {
    "execution": {
     "iopub.execute_input": "2020-10-03T15:52:07.780592Z",
     "iopub.status.busy": "2020-10-03T15:52:07.779753Z",
     "iopub.status.idle": "2020-10-03T15:52:10.557379Z",
     "shell.execute_reply": "2020-10-03T15:52:10.556561Z"
    },
    "papermill": {
     "duration": 2.797961,
     "end_time": "2020-10-03T15:52:10.557511",
     "exception": false,
     "start_time": "2020-10-03T15:52:07.759550",
     "status": "completed"
    },
    "tags": []
   },
   "outputs": [],
   "source": [
    "import os\n",
    "import gc\n",
    "import random\n",
    "import math\n",
    "import time\n",
    "import numpy as np\n",
    "import pandas as pd\n",
    "\n",
    "import category_encoders as ce\n",
    "import matplotlib.pyplot as plt\n",
    "from plotly.subplots import make_subplots\n",
    "import plotly.graph_objects as go\n",
    "from sklearn import preprocessing\n",
    "from sklearn import decomposition\n",
    "\n",
    "import torch\n",
    "import torch.nn as nn\n",
    "from torch.utils.data import DataLoader, Dataset\n",
    "import torch.optim as optim\n",
    "import torch.nn.functional as F\n",
    "import torchvision"
   ]
  },
  {
   "cell_type": "code",
   "execution_count": 3,
   "metadata": {
    "execution": {
     "iopub.execute_input": "2020-10-03T15:52:10.938830Z",
     "iopub.status.busy": "2020-10-03T15:52:10.937677Z",
     "iopub.status.idle": "2020-10-03T15:52:10.941938Z",
     "shell.execute_reply": "2020-10-03T15:52:10.942622Z"
    },
    "papermill": {
     "duration": 0.371411,
     "end_time": "2020-10-03T15:52:10.942804",
     "exception": false,
     "start_time": "2020-10-03T15:52:10.571393",
     "status": "completed"
    },
    "tags": []
   },
   "outputs": [],
   "source": [
    "device = torch.device('cuda' if torch.cuda.is_available() else 'cpu')"
   ]
  },
  {
   "cell_type": "code",
   "execution_count": 7,
   "metadata": {
    "_cell_guid": "79c7e3d0-c299-4dcb-8224-4455121ee9b0",
    "_uuid": "d629ff2d2480ee46fbb7e2d37f6b5fab8052498a",
    "execution": {
     "iopub.execute_input": "2020-10-03T15:52:10.983819Z",
     "iopub.status.busy": "2020-10-03T15:52:10.982835Z",
     "iopub.status.idle": "2020-10-03T15:52:17.157244Z",
     "shell.execute_reply": "2020-10-03T15:52:17.156439Z"
    },
    "papermill": {
     "duration": 6.195155,
     "end_time": "2020-10-03T15:52:17.157383",
     "exception": false,
     "start_time": "2020-10-03T15:52:10.962228",
     "status": "completed"
    },
    "tags": []
   },
   "outputs": [],
   "source": [
    "train_features = pd.read_csv('Data/train_features.csv')\n",
    "train_targets_scored = pd.read_csv('Data/train_targets_scored.csv')\n",
    "train_targets_nonscored = pd.read_csv('Data/train_targets_nonscored.csv')\n",
    "test_features = pd.read_csv('Data/test_features.csv')\n",
    "submission = pd.read_csv('Data/sample_submission.csv')"
   ]
  },
  {
   "cell_type": "code",
   "execution_count": 6,
   "metadata": {
    "execution": {
     "iopub.execute_input": "2020-10-03T15:52:17.240033Z",
     "iopub.status.busy": "2020-10-03T15:52:17.238727Z",
     "iopub.status.idle": "2020-10-03T15:52:17.548227Z",
     "shell.execute_reply": "2020-10-03T15:52:17.548966Z"
    },
    "papermill": {
     "duration": 0.334094,
     "end_time": "2020-10-03T15:52:17.549146",
     "exception": false,
     "start_time": "2020-10-03T15:52:17.215052",
     "status": "completed"
    },
    "tags": []
   },
   "outputs": [
    {
     "name": "stdout",
     "output_type": "stream",
     "text": [
      "(23814, 876) (3982, 876)\n",
      "(21948, 1082) (3982, 876)\n"
     ]
    }
   ],
   "source": [
    "train = train_features.merge(train_targets_scored, on='sig_id')\n",
    "# constrcut train&test except 'cp_type'=='ctl_vehicle' data\n",
    "print(train_features.shape, test_features.shape)\n",
    "train = train[train['cp_type']!='ctl_vehicle'].reset_index(drop=True)\n",
    "#test = test_features[test_features['cp_type']!='ctl_vehicle'].reset_index(drop=True)\n",
    "test = test_features\n",
    "\n",
    "print(train.shape, test.shape)"
   ]
  },
  {
   "cell_type": "code",
   "execution_count": 7,
   "metadata": {
    "execution": {
     "iopub.execute_input": "2020-10-03T15:52:17.586955Z",
     "iopub.status.busy": "2020-10-03T15:52:17.586047Z",
     "iopub.status.idle": "2020-10-03T15:52:17.596968Z",
     "shell.execute_reply": "2020-10-03T15:52:17.597448Z"
    },
    "papermill": {
     "duration": 0.033725,
     "end_time": "2020-10-03T15:52:17.597588",
     "exception": false,
     "start_time": "2020-10-03T15:52:17.563863",
     "status": "completed"
    },
    "tags": []
   },
   "outputs": [],
   "source": [
    "train['cp_time'] = train['cp_time'].map({24: -1, 48: 0, 72: 1})\n",
    "train['cp_dose'] = train['cp_dose'].map({'D1': -0.5, 'D2': 0.5})\n",
    "\n",
    "test['cp_time'] = test['cp_time'].map({24: -1, 48: 0, 72: 1})\n",
    "test['cp_dose'] = test['cp_dose'].map({'D1': -0.5, 'D2': 0.5})"
   ]
  },
  {
   "cell_type": "code",
   "execution_count": 8,
   "metadata": {
    "execution": {
     "iopub.execute_input": "2020-10-03T15:52:17.636939Z",
     "iopub.status.busy": "2020-10-03T15:52:17.635584Z",
     "iopub.status.idle": "2020-10-03T15:52:24.446656Z",
     "shell.execute_reply": "2020-10-03T15:52:24.447816Z"
    },
    "papermill": {
     "duration": 6.834381,
     "end_time": "2020-10-03T15:52:24.448028",
     "exception": false,
     "start_time": "2020-10-03T15:52:17.613647",
     "status": "completed"
    },
    "tags": []
   },
   "outputs": [],
   "source": [
    "train = train.to_numpy()\n",
    "test = test.to_numpy()\n",
    "dist_len = 99 + 771\n",
    "for d in range(dist_len):\n",
    "    train[::, 4+d]  = preprocessing.scale(train[::, 4+d])\n",
    "    test[::, 4+d]  = preprocessing.scale(test[::, 4+d])\n",
    "train = train[::, 2:].astype('float64') \n",
    "test = test[::, 2:].astype('float64')"
   ]
  },
  {
   "cell_type": "code",
   "execution_count": 9,
   "metadata": {
    "execution": {
     "iopub.execute_input": "2020-10-03T15:52:24.507435Z",
     "iopub.status.busy": "2020-10-03T15:52:24.506433Z",
     "iopub.status.idle": "2020-10-03T15:52:24.676513Z",
     "shell.execute_reply": "2020-10-03T15:52:24.674951Z"
    },
    "papermill": {
     "duration": 0.20576,
     "end_time": "2020-10-03T15:52:24.676681",
     "exception": false,
     "start_time": "2020-10-03T15:52:24.470921",
     "status": "completed"
    },
    "tags": []
   },
   "outputs": [],
   "source": [
    "batch_size = 100\n",
    "\n",
    "val = train[:2000, :874]\n",
    "train_d = train[2000:, :874]\n",
    "\n",
    "lables_train = train[2000:, 874:]\n",
    "lables_val = train[:2000, 874:]\n",
    "\n",
    "dataset = torch.utils.data.TensorDataset( torch.Tensor(train_d), torch.Tensor(lables_train) )\n",
    "validationset = torch.utils.data.TensorDataset( torch.Tensor(val), torch.Tensor(lables_val) )\n",
    "\n",
    "transform = torchvision.transforms.Compose([torchvision.transforms.ToTensor()])\n",
    "\n",
    "train_loader = torch.utils.data.DataLoader(\n",
    "    dataset, batch_size=batch_size, shuffle=True, pin_memory=True)\n",
    "\n",
    "test_loader = torch.utils.data.DataLoader(\n",
    "    validationset, batch_size=batch_size, shuffle=True, pin_memory=True)\n",
    "\n",
    "pred_loader = torch.utils.data.DataLoader(\n",
    "    test, batch_size=batch_size, shuffle=True, pin_memory=True)\n",
    "\n",
    "input_shape = train_d.shape[1]"
   ]
  },
  {
   "cell_type": "code",
   "execution_count": 10,
   "metadata": {
    "execution": {
     "iopub.execute_input": "2020-10-03T15:52:24.740320Z",
     "iopub.status.busy": "2020-10-03T15:52:24.732908Z",
     "iopub.status.idle": "2020-10-03T15:52:24.743985Z",
     "shell.execute_reply": "2020-10-03T15:52:24.744738Z"
    },
    "papermill": {
     "duration": 0.046719,
     "end_time": "2020-10-03T15:52:24.744905",
     "exception": false,
     "start_time": "2020-10-03T15:52:24.698186",
     "status": "completed"
    },
    "tags": []
   },
   "outputs": [],
   "source": [
    "class NN(nn.Module):\n",
    "    def __init__(self, **kwargs):\n",
    "        super().__init__()\n",
    "        self.ilayer = nn.Linear(in_features=kwargs[\"input_shape\"], out_features= 874)\n",
    "        \n",
    "        self.bnorm1 = nn.BatchNorm1d(874)\n",
    "        \n",
    "        self.drop1 = nn.Dropout(0.2)\n",
    "        \n",
    "        self.hlayer1 = nn.Linear(in_features= 874, out_features= 600)\n",
    "        \n",
    "        self.bnorm2 = nn.BatchNorm1d(600)\n",
    "        \n",
    "        self.drop2 = nn.Dropout(0.5)\n",
    "        \n",
    "        self.hlayer2 = nn.Linear(in_features= 600, out_features= 400)\n",
    "        \n",
    "        self.bnorm3 = nn.BatchNorm1d(400)\n",
    "        \n",
    "        self.drop3 = nn.Dropout(0.5)\n",
    "        \n",
    "        self.olayer = nn.Linear(in_features= 400, out_features= 206)\n",
    "        \n",
    "        self.tanh = nn.Tanh()\n",
    "        \n",
    "        self.relu = nn.ReLU()\n",
    "\n",
    "        \n",
    "    def forward(self, x):\n",
    "        x = self.ilayer(x)\n",
    "        x = self.relu(x)\n",
    "        x = self.bnorm1(x)\n",
    "        x = self.drop1(x)\n",
    "\n",
    "        x = self.hlayer1(x)\n",
    "        x = self.relu(x)\n",
    "        x = self.bnorm2(x)\n",
    "        x = self.drop2(x)\n",
    "        \n",
    "        \n",
    "        x = self.hlayer2(x)\n",
    "        x = self.relu(x)\n",
    "        x = self.bnorm3(x)\n",
    "        x = self.drop3(x)\n",
    "        \n",
    "        x = self.olayer(x)\n",
    "        \n",
    "        return x"
   ]
  },
  {
   "cell_type": "code",
   "execution_count": 11,
   "metadata": {
    "execution": {
     "iopub.execute_input": "2020-10-03T15:52:24.800745Z",
     "iopub.status.busy": "2020-10-03T15:52:24.799839Z",
     "iopub.status.idle": "2020-10-03T15:52:30.159911Z",
     "shell.execute_reply": "2020-10-03T15:52:30.159315Z"
    },
    "papermill": {
     "duration": 5.390771,
     "end_time": "2020-10-03T15:52:30.160038",
     "exception": false,
     "start_time": "2020-10-03T15:52:24.769267",
     "status": "completed"
    },
    "tags": []
   },
   "outputs": [],
   "source": [
    "# use gpu if available\n",
    "device = torch.device(\"cuda\" if torch.cuda.is_available() else \"cpu\")\n",
    "\n",
    "# create a model from `AE` autoencoder class\n",
    "# load it to the specified device, either gpu or cpu\n",
    "model = NN(input_shape=input_shape).to(device)\n",
    "\n",
    "# create an optimizer object\n",
    "# Adam optimizer with learning rate 1e-3\n",
    "optimizer = optim.Adam(model.parameters(), lr=1e-4)"
   ]
  },
  {
   "cell_type": "code",
   "execution_count": 12,
   "metadata": {
    "execution": {
     "iopub.execute_input": "2020-10-03T15:52:30.208489Z",
     "iopub.status.busy": "2020-10-03T15:52:30.207751Z",
     "iopub.status.idle": "2020-10-03T15:52:54.545588Z",
     "shell.execute_reply": "2020-10-03T15:52:54.544575Z"
    },
    "papermill": {
     "duration": 24.370155,
     "end_time": "2020-10-03T15:52:54.545715",
     "exception": false,
     "start_time": "2020-10-03T15:52:30.175560",
     "status": "completed"
    },
    "tags": []
   },
   "outputs": [
    {
     "name": "stdout",
     "output_type": "stream",
     "text": [
      "Validation: epoch : 0/100, loss = 0.6959\n",
      "epoch : 1/100, loss = 0.7064\n",
      "Validation: epoch : 1/100, loss = 0.6408\n",
      "epoch : 2/100, loss = 0.6126\n",
      "Validation: epoch : 2/100, loss = 0.4549\n",
      "epoch : 3/100, loss = 0.4663\n",
      "Validation: epoch : 3/100, loss = 0.2866\n",
      "epoch : 4/100, loss = 0.3209\n",
      "Validation: epoch : 4/100, loss = 0.1924\n",
      "epoch : 5/100, loss = 0.1816\n",
      "Validation: epoch : 5/100, loss = 0.1373\n",
      "epoch : 6/100, loss = 0.1082\n",
      "Validation: epoch : 6/100, loss = 0.0696\n",
      "epoch : 7/100, loss = 0.0750\n",
      "Validation: epoch : 7/100, loss = 0.0538\n",
      "epoch : 8/100, loss = 0.0567\n",
      "Validation: epoch : 8/100, loss = 0.0481\n",
      "epoch : 9/100, loss = 0.0399\n",
      "Validation: epoch : 9/100, loss = 0.0393\n",
      "epoch : 10/100, loss = 0.0447\n",
      "Validation: epoch : 10/100, loss = 0.0354\n",
      "epoch : 11/100, loss = 0.0317\n",
      "Validation: epoch : 11/100, loss = 0.0286\n",
      "epoch : 12/100, loss = 0.0274\n",
      "Validation: epoch : 12/100, loss = 0.0267\n",
      "epoch : 13/100, loss = 0.0281\n",
      "Validation: epoch : 13/100, loss = 0.0249\n",
      "epoch : 14/100, loss = 0.0267\n",
      "Validation: epoch : 14/100, loss = 0.0237\n",
      "epoch : 15/100, loss = 0.0253\n",
      "Validation: epoch : 15/100, loss = 0.0228\n",
      "epoch : 16/100, loss = 0.0228\n",
      "Validation: epoch : 16/100, loss = 0.0223\n",
      "epoch : 17/100, loss = 0.0228\n",
      "Validation: epoch : 17/100, loss = 0.0215\n",
      "epoch : 18/100, loss = 0.0224\n",
      "Validation: epoch : 18/100, loss = 0.0224\n",
      "epoch : 19/100, loss = 0.0196\n",
      "Validation: epoch : 19/100, loss = 0.0211\n",
      "epoch : 20/100, loss = 0.0234\n",
      "Validation: epoch : 20/100, loss = 0.0185\n",
      "epoch : 21/100, loss = 0.0167\n",
      "Validation: epoch : 21/100, loss = 0.0184\n",
      "epoch : 22/100, loss = 0.0208\n"
     ]
    }
   ],
   "source": [
    "epochs = 100\n",
    "\n",
    "epoch_list = []\n",
    "val_list = []\n",
    "\n",
    "for epoch in range(epochs):\n",
    "    train_loss_en = 0\n",
    "    train_loss_de = 0\n",
    "    loss = 0\n",
    "    \n",
    "    for x, y in train_loader:\n",
    "        \n",
    "        x = x.to(device)\n",
    "        y = y.to(device)\n",
    "        optimizer.zero_grad()\n",
    "        \n",
    "        outputs = model.forward(x.float())\n",
    "        # compute training reconstruction loss\n",
    "        train_loss = nn.BCEWithLogitsLoss()(outputs, y)\n",
    "\n",
    "        # compute accumulated gradients\n",
    "        train_loss.backward()\n",
    "\n",
    "        # perform parameter update based on current gradients\n",
    "        optimizer.step()\n",
    " \n",
    "        # add the mini-batch training loss to epoch loss\n",
    "        loss += train_loss_en\n",
    "\n",
    "    if (epoch % 1) == 0:\n",
    "        val_loss_en = 0 \n",
    "        val_loss_de = 0\n",
    "\n",
    "        for x, y in test_loader:\n",
    "            x = x.to(device)\n",
    "            y = y.to(device)\n",
    "            outputs = model.forward(x.float())\n",
    "            val_loss = nn.BCEWithLogitsLoss()(outputs, y)\n",
    "\n",
    "\n",
    "        val_loss = val_loss.cpu().detach().numpy()\n",
    "\n",
    "        val_list.append(val_loss)\n",
    "       \n",
    "        epoch_list.append(epoch)\n",
    "        \n",
    "        if epoch >= 10:\n",
    "            if all((i <= val_list[-1]) for i in val_list[-6:-1]):\n",
    "                break \n",
    "\n",
    "        print(\"Validation: epoch : {}/{}, loss = {:.4f}\".format(epoch, epochs, val_loss))\n",
    "\n",
    "\n",
    "    # display the epoch training loss\n",
    "    print(\"epoch : {}/{}, loss = {:.4f}\".format(epoch + 1, epochs, train_loss))"
   ]
  },
  {
   "cell_type": "code",
   "execution_count": null,
   "metadata": {},
   "outputs": [],
   "source": [
    "preds = clf.predict(X_test)"
   ]
  },
  {
   "cell_type": "code",
   "execution_count": 13,
   "metadata": {
    "execution": {
     "iopub.execute_input": "2020-10-03T15:52:54.601321Z",
     "iopub.status.busy": "2020-10-03T15:52:54.600121Z",
     "iopub.status.idle": "2020-10-03T15:52:54.695740Z",
     "shell.execute_reply": "2020-10-03T15:52:54.695173Z"
    },
    "papermill": {
     "duration": 0.126804,
     "end_time": "2020-10-03T15:52:54.695848",
     "exception": false,
     "start_time": "2020-10-03T15:52:54.569044",
     "status": "completed"
    },
    "tags": []
   },
   "outputs": [],
   "source": [
    "model.eval()\n",
    "pred_encode = np.empty(shape = (test.shape[0], 206))\n",
    "i = 1\n",
    "for x in pred_loader:\n",
    "    x = x.to(device)\n",
    "    outputs = model.forward(x.float())\n",
    "    pred_encode[((i-1)*(outputs.shape[0])):(i*(outputs.shape[0])), ::] = outputs.sigmoid().cpu().detach().numpy()\n",
    "    i += 1"
   ]
  },
  {
   "cell_type": "code",
   "execution_count": 14,
   "metadata": {
    "execution": {
     "iopub.execute_input": "2020-10-03T15:52:54.751705Z",
     "iopub.status.busy": "2020-10-03T15:52:54.751027Z",
     "iopub.status.idle": "2020-10-03T15:52:54.790527Z",
     "shell.execute_reply": "2020-10-03T15:52:54.789901Z"
    },
    "papermill": {
     "duration": 0.071463,
     "end_time": "2020-10-03T15:52:54.790658",
     "exception": false,
     "start_time": "2020-10-03T15:52:54.719195",
     "status": "completed"
    },
    "tags": []
   },
   "outputs": [
    {
     "data": {
      "text/html": [
       "<div>\n",
       "<style scoped>\n",
       "    .dataframe tbody tr th:only-of-type {\n",
       "        vertical-align: middle;\n",
       "    }\n",
       "\n",
       "    .dataframe tbody tr th {\n",
       "        vertical-align: top;\n",
       "    }\n",
       "\n",
       "    .dataframe thead th {\n",
       "        text-align: right;\n",
       "    }\n",
       "</style>\n",
       "<table border=\"1\" class=\"dataframe\">\n",
       "  <thead>\n",
       "    <tr style=\"text-align: right;\">\n",
       "      <th></th>\n",
       "      <th>sig_id</th>\n",
       "      <th>5-alpha_reductase_inhibitor</th>\n",
       "      <th>11-beta-hsd1_inhibitor</th>\n",
       "      <th>acat_inhibitor</th>\n",
       "      <th>acetylcholine_receptor_agonist</th>\n",
       "      <th>acetylcholine_receptor_antagonist</th>\n",
       "      <th>acetylcholinesterase_inhibitor</th>\n",
       "      <th>adenosine_receptor_agonist</th>\n",
       "      <th>adenosine_receptor_antagonist</th>\n",
       "      <th>adenylyl_cyclase_activator</th>\n",
       "      <th>...</th>\n",
       "      <th>tropomyosin_receptor_kinase_inhibitor</th>\n",
       "      <th>trpv_agonist</th>\n",
       "      <th>trpv_antagonist</th>\n",
       "      <th>tubulin_inhibitor</th>\n",
       "      <th>tyrosine_kinase_inhibitor</th>\n",
       "      <th>ubiquitin_specific_protease_inhibitor</th>\n",
       "      <th>vegfr_inhibitor</th>\n",
       "      <th>vitamin_b</th>\n",
       "      <th>vitamin_d_receptor_agonist</th>\n",
       "      <th>wnt_inhibitor</th>\n",
       "    </tr>\n",
       "  </thead>\n",
       "  <tbody>\n",
       "    <tr>\n",
       "      <th>0</th>\n",
       "      <td>id_0004d9e33</td>\n",
       "      <td>0.002686</td>\n",
       "      <td>0.00261</td>\n",
       "      <td>0.002865</td>\n",
       "      <td>0.008455</td>\n",
       "      <td>0.011161</td>\n",
       "      <td>0.003767</td>\n",
       "      <td>0.003519</td>\n",
       "      <td>0.004574</td>\n",
       "      <td>0.002628</td>\n",
       "      <td>...</td>\n",
       "      <td>0.002230</td>\n",
       "      <td>0.003022</td>\n",
       "      <td>0.003490</td>\n",
       "      <td>0.012452</td>\n",
       "      <td>0.004902</td>\n",
       "      <td>0.002637</td>\n",
       "      <td>0.012502</td>\n",
       "      <td>0.002925</td>\n",
       "      <td>0.003458</td>\n",
       "      <td>0.003006</td>\n",
       "    </tr>\n",
       "    <tr>\n",
       "      <th>1</th>\n",
       "      <td>id_001897cda</td>\n",
       "      <td>0.002368</td>\n",
       "      <td>0.00253</td>\n",
       "      <td>0.002663</td>\n",
       "      <td>0.008108</td>\n",
       "      <td>0.012531</td>\n",
       "      <td>0.003851</td>\n",
       "      <td>0.003524</td>\n",
       "      <td>0.004741</td>\n",
       "      <td>0.002631</td>\n",
       "      <td>...</td>\n",
       "      <td>0.002167</td>\n",
       "      <td>0.002688</td>\n",
       "      <td>0.003393</td>\n",
       "      <td>0.010049</td>\n",
       "      <td>0.004241</td>\n",
       "      <td>0.002447</td>\n",
       "      <td>0.009817</td>\n",
       "      <td>0.002816</td>\n",
       "      <td>0.003268</td>\n",
       "      <td>0.002802</td>\n",
       "    </tr>\n",
       "    <tr>\n",
       "      <th>2</th>\n",
       "      <td>id_002429b5b</td>\n",
       "      <td>0.000000</td>\n",
       "      <td>0.00000</td>\n",
       "      <td>0.000000</td>\n",
       "      <td>0.000000</td>\n",
       "      <td>0.000000</td>\n",
       "      <td>0.000000</td>\n",
       "      <td>0.000000</td>\n",
       "      <td>0.000000</td>\n",
       "      <td>0.000000</td>\n",
       "      <td>...</td>\n",
       "      <td>0.000000</td>\n",
       "      <td>0.000000</td>\n",
       "      <td>0.000000</td>\n",
       "      <td>0.000000</td>\n",
       "      <td>0.000000</td>\n",
       "      <td>0.000000</td>\n",
       "      <td>0.000000</td>\n",
       "      <td>0.000000</td>\n",
       "      <td>0.000000</td>\n",
       "      <td>0.000000</td>\n",
       "    </tr>\n",
       "  </tbody>\n",
       "</table>\n",
       "<p>3 rows × 207 columns</p>\n",
       "</div>"
      ],
      "text/plain": [
       "         sig_id  5-alpha_reductase_inhibitor  11-beta-hsd1_inhibitor  \\\n",
       "0  id_0004d9e33                     0.002686                 0.00261   \n",
       "1  id_001897cda                     0.002368                 0.00253   \n",
       "2  id_002429b5b                     0.000000                 0.00000   \n",
       "\n",
       "   acat_inhibitor  acetylcholine_receptor_agonist  \\\n",
       "0        0.002865                        0.008455   \n",
       "1        0.002663                        0.008108   \n",
       "2        0.000000                        0.000000   \n",
       "\n",
       "   acetylcholine_receptor_antagonist  acetylcholinesterase_inhibitor  \\\n",
       "0                           0.011161                        0.003767   \n",
       "1                           0.012531                        0.003851   \n",
       "2                           0.000000                        0.000000   \n",
       "\n",
       "   adenosine_receptor_agonist  adenosine_receptor_antagonist  \\\n",
       "0                    0.003519                       0.004574   \n",
       "1                    0.003524                       0.004741   \n",
       "2                    0.000000                       0.000000   \n",
       "\n",
       "   adenylyl_cyclase_activator  ...  tropomyosin_receptor_kinase_inhibitor  \\\n",
       "0                    0.002628  ...                               0.002230   \n",
       "1                    0.002631  ...                               0.002167   \n",
       "2                    0.000000  ...                               0.000000   \n",
       "\n",
       "   trpv_agonist  trpv_antagonist  tubulin_inhibitor  \\\n",
       "0      0.003022         0.003490           0.012452   \n",
       "1      0.002688         0.003393           0.010049   \n",
       "2      0.000000         0.000000           0.000000   \n",
       "\n",
       "   tyrosine_kinase_inhibitor  ubiquitin_specific_protease_inhibitor  \\\n",
       "0                   0.004902                               0.002637   \n",
       "1                   0.004241                               0.002447   \n",
       "2                   0.000000                               0.000000   \n",
       "\n",
       "   vegfr_inhibitor  vitamin_b  vitamin_d_receptor_agonist  wnt_inhibitor  \n",
       "0         0.012502   0.002925                    0.003458       0.003006  \n",
       "1         0.009817   0.002816                    0.003268       0.002802  \n",
       "2         0.000000   0.000000                    0.000000       0.000000  \n",
       "\n",
       "[3 rows x 207 columns]"
      ]
     },
     "execution_count": 14,
     "metadata": {},
     "output_type": "execute_result"
    }
   ],
   "source": [
    "# take a copy of all our training sig_ids for reference\n",
    "test_sig_ids = test_features['sig_id'].copy()\n",
    "\n",
    "# select all indices when 'cp_type' is 'ctl_vehicle'\n",
    "test_ctl_vehicle_idx = (test_features['cp_type'] == 'ctl_vehicle')\n",
    "\n",
    "# change all cp_type == ctl_vehicle predictions to zero\n",
    "pred_encode[test_sig_ids[test_ctl_vehicle_idx].index.values] = 0\n",
    "test_submission = pd.DataFrame({'sig_id' : test_sig_ids})\n",
    "test_preds_df = pd.DataFrame(pred_encode, columns=train_targets_scored.columns[1:])\n",
    "test_submission = pd.concat([test_submission, test_preds_df], axis=1)\n",
    "test_submission.head(3)"
   ]
  },
  {
   "cell_type": "code",
   "execution_count": 15,
   "metadata": {
    "execution": {
     "iopub.execute_input": "2020-10-03T15:52:54.849482Z",
     "iopub.status.busy": "2020-10-03T15:52:54.848574Z",
     "iopub.status.idle": "2020-10-03T15:52:57.019352Z",
     "shell.execute_reply": "2020-10-03T15:52:57.018223Z"
    },
    "papermill": {
     "duration": 2.202021,
     "end_time": "2020-10-03T15:52:57.019481",
     "exception": false,
     "start_time": "2020-10-03T15:52:54.817460",
     "status": "completed"
    },
    "tags": []
   },
   "outputs": [],
   "source": [
    "test_submission.to_csv('submission.csv', index=False)"
   ]
  },
  {
   "cell_type": "markdown",
   "metadata": {
    "papermill": {
     "duration": 0.025568,
     "end_time": "2020-10-03T15:52:57.072744",
     "exception": false,
     "start_time": "2020-10-03T15:52:57.047176",
     "status": "completed"
    },
    "tags": []
   },
   "source": []
  }
 ],
 "metadata": {
  "kernelspec": {
   "display_name": "Python 3",
   "language": "python",
   "name": "python3"
  },
  "language_info": {
   "codemirror_mode": {
    "name": "ipython",
    "version": 3
   },
   "file_extension": ".py",
   "mimetype": "text/x-python",
   "name": "python",
   "nbconvert_exporter": "python",
   "pygments_lexer": "ipython3",
   "version": "3.7.6"
  },
  "papermill": {
   "duration": 54.879322,
   "end_time": "2020-10-03T15:52:58.256922",
   "environment_variables": {},
   "exception": null,
   "input_path": "__notebook__.ipynb",
   "output_path": "__notebook__.ipynb",
   "parameters": {},
   "start_time": "2020-10-03T15:52:03.377600",
   "version": "2.1.0"
  }
 },
 "nbformat": 4,
 "nbformat_minor": 4
}
