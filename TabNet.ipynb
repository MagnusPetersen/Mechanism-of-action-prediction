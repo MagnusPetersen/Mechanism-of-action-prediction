{
 "cells": [
  {
   "cell_type": "code",
   "execution_count": 1,
   "metadata": {
    "execution": {
     "iopub.execute_input": "2020-10-03T15:52:07.780592Z",
     "iopub.status.busy": "2020-10-03T15:52:07.779753Z",
     "iopub.status.idle": "2020-10-03T15:52:10.557379Z",
     "shell.execute_reply": "2020-10-03T15:52:10.556561Z"
    },
    "papermill": {
     "duration": 2.797961,
     "end_time": "2020-10-03T15:52:10.557511",
     "exception": false,
     "start_time": "2020-10-03T15:52:07.759550",
     "status": "completed"
    },
    "tags": []
   },
   "outputs": [],
   "source": [
    "import os\n",
    "import gc\n",
    "import random\n",
    "import math\n",
    "import time\n",
    "import numpy as np\n",
    "import pandas as pd\n",
    "\n",
    "import category_encoders as ce\n",
    "import matplotlib.pyplot as plt\n",
    "from plotly.subplots import make_subplots\n",
    "import plotly.graph_objects as go\n",
    "from sklearn import preprocessing\n",
    "from sklearn import decomposition\n",
    "\n",
    "import torch\n",
    "import torch.nn as nn\n",
    "from torch.utils.data import DataLoader, Dataset\n",
    "import torch.optim as optim\n",
    "import torch.nn.functional as F\n",
    "import torchvision\n",
    "from pytorch_tabnet.tab_model import TabNetClassifier, TabNetRegressor\n",
    "from pytorch_tabnet.metrics import Metric\n",
    "\n",
    "device = torch.device(\"cuda\" if torch.cuda.is_available() else \"cpu\")"
   ]
  },
  {
   "cell_type": "code",
   "execution_count": 2,
   "metadata": {
    "_cell_guid": "79c7e3d0-c299-4dcb-8224-4455121ee9b0",
    "_uuid": "d629ff2d2480ee46fbb7e2d37f6b5fab8052498a",
    "execution": {
     "iopub.execute_input": "2020-10-03T15:52:10.983819Z",
     "iopub.status.busy": "2020-10-03T15:52:10.982835Z",
     "iopub.status.idle": "2020-10-03T15:52:17.157244Z",
     "shell.execute_reply": "2020-10-03T15:52:17.156439Z"
    },
    "papermill": {
     "duration": 6.195155,
     "end_time": "2020-10-03T15:52:17.157383",
     "exception": false,
     "start_time": "2020-10-03T15:52:10.962228",
     "status": "completed"
    },
    "tags": []
   },
   "outputs": [],
   "source": [
    "train_features = pd.read_csv('Data/train_features.csv')\n",
    "train_targets_scored = pd.read_csv('Data/train_targets_scored.csv')\n",
    "train_targets_nonscored = pd.read_csv('Data/train_targets_nonscored.csv')\n",
    "test_features = pd.read_csv('Data/test_features.csv')\n",
    "submission = pd.read_csv('Data/sample_submission.csv')"
   ]
  },
  {
   "cell_type": "code",
   "execution_count": 3,
   "metadata": {
    "execution": {
     "iopub.execute_input": "2020-10-03T15:52:17.240033Z",
     "iopub.status.busy": "2020-10-03T15:52:17.238727Z",
     "iopub.status.idle": "2020-10-03T15:52:17.548227Z",
     "shell.execute_reply": "2020-10-03T15:52:17.548966Z"
    },
    "papermill": {
     "duration": 0.334094,
     "end_time": "2020-10-03T15:52:17.549146",
     "exception": false,
     "start_time": "2020-10-03T15:52:17.215052",
     "status": "completed"
    },
    "tags": []
   },
   "outputs": [
    {
     "name": "stdout",
     "output_type": "stream",
     "text": [
      "(23814, 876) (3982, 876)\n",
      "(21948, 1082) (3982, 876)\n"
     ]
    }
   ],
   "source": [
    "train = train_features.merge(train_targets_scored, on='sig_id')\n",
    "# constrcut train&test except 'cp_type'=='ctl_vehicle' data\n",
    "print(train_features.shape, test_features.shape)\n",
    "train = train[train['cp_type']!='ctl_vehicle'].reset_index(drop=True)\n",
    "#test = test_features[test_features['cp_type']!='ctl_vehicle'].reset_index(drop=True)\n",
    "test = test_features\n",
    "\n",
    "print(train.shape, test.shape)"
   ]
  },
  {
   "cell_type": "code",
   "execution_count": 4,
   "metadata": {
    "execution": {
     "iopub.execute_input": "2020-10-03T15:52:17.586955Z",
     "iopub.status.busy": "2020-10-03T15:52:17.586047Z",
     "iopub.status.idle": "2020-10-03T15:52:17.596968Z",
     "shell.execute_reply": "2020-10-03T15:52:17.597448Z"
    },
    "papermill": {
     "duration": 0.033725,
     "end_time": "2020-10-03T15:52:17.597588",
     "exception": false,
     "start_time": "2020-10-03T15:52:17.563863",
     "status": "completed"
    },
    "tags": []
   },
   "outputs": [],
   "source": [
    "train['cp_time'] = train['cp_time'].map({24: -1, 48: 0, 72: 1})\n",
    "train['cp_dose'] = train['cp_dose'].map({'D1': -0.5, 'D2': 0.5})\n",
    "\n",
    "test['cp_time'] = test['cp_time'].map({24: -1, 48: 0, 72: 1})\n",
    "test['cp_dose'] = test['cp_dose'].map({'D1': -0.5, 'D2': 0.5})"
   ]
  },
  {
   "cell_type": "code",
   "execution_count": 5,
   "metadata": {
    "execution": {
     "iopub.execute_input": "2020-10-03T15:52:17.636939Z",
     "iopub.status.busy": "2020-10-03T15:52:17.635584Z",
     "iopub.status.idle": "2020-10-03T15:52:24.446656Z",
     "shell.execute_reply": "2020-10-03T15:52:24.447816Z"
    },
    "papermill": {
     "duration": 6.834381,
     "end_time": "2020-10-03T15:52:24.448028",
     "exception": false,
     "start_time": "2020-10-03T15:52:17.613647",
     "status": "completed"
    },
    "tags": []
   },
   "outputs": [],
   "source": [
    "train = train.to_numpy()\n",
    "test = test.to_numpy()\n",
    "dist_len = 99 + 771\n",
    "for d in range(dist_len):\n",
    "    train[::, 4+d]  = preprocessing.scale(train[::, 4+d])\n",
    "    test[::, 4+d]  = preprocessing.scale(test[::, 4+d])\n",
    "train = train[::, 2:].astype('float64') \n",
    "test = test[::, 2:].astype('float64')"
   ]
  },
  {
   "cell_type": "code",
   "execution_count": 6,
   "metadata": {
    "execution": {
     "iopub.execute_input": "2020-10-03T15:52:24.507435Z",
     "iopub.status.busy": "2020-10-03T15:52:24.506433Z",
     "iopub.status.idle": "2020-10-03T15:52:24.676513Z",
     "shell.execute_reply": "2020-10-03T15:52:24.674951Z"
    },
    "papermill": {
     "duration": 0.20576,
     "end_time": "2020-10-03T15:52:24.676681",
     "exception": false,
     "start_time": "2020-10-03T15:52:24.470921",
     "status": "completed"
    },
    "tags": []
   },
   "outputs": [],
   "source": [
    "batch_size = 100\n",
    "\n",
    "val = train[:2000, :874]\n",
    "train_d = train[2000:, :874]\n",
    "\n",
    "lables_train = train[2000:, 874:]\n",
    "lables_val = train[:2000, 874:]\n",
    "\n",
    "dataset = torch.utils.data.TensorDataset( torch.Tensor(train_d), torch.Tensor(lables_train) )\n",
    "validationset = torch.utils.data.TensorDataset( torch.Tensor(val), torch.Tensor(lables_val) )\n",
    "\n",
    "transform = torchvision.transforms.Compose([torchvision.transforms.ToTensor()])\n",
    "\n",
    "train_loader = torch.utils.data.DataLoader(\n",
    "    dataset, batch_size=batch_size, shuffle=True, pin_memory=True)\n",
    "\n",
    "test_loader = torch.utils.data.DataLoader(\n",
    "    validationset, batch_size=batch_size, shuffle=True, pin_memory=True)\n",
    "\n",
    "pred_loader = torch.utils.data.DataLoader(\n",
    "    test, batch_size=batch_size, shuffle=True, pin_memory=True)\n",
    "\n",
    "input_shape = train_d.shape[1]"
   ]
  },
  {
   "cell_type": "markdown",
   "metadata": {},
   "source": [
    "Tabnet"
   ]
  },
  {
   "cell_type": "code",
   "execution_count": 9,
   "metadata": {},
   "outputs": [],
   "source": [
    "class LogitsLogLoss(Metric):\n",
    "    \"\"\"\n",
    "    LogLoss with sigmoid applied\n",
    "    \"\"\"\n",
    "\n",
    "    def __init__(self):\n",
    "        self._name = \"val_loss\"\n",
    "        self._maximize = False\n",
    "\n",
    "    def __call__(self, y_true, y_pred):\n",
    "\n",
    "        logits = 1 / (1 + np.exp(-y_pred))\n",
    "        aux = (1 - y_true) * np.log(1 - logits + 1e-15) + y_true * np.log(logits + 1e-15)\n",
    "        return np.mean(-aux)"
   ]
  },
  {
   "cell_type": "code",
   "execution_count": 10,
   "metadata": {},
   "outputs": [
    {
     "name": "stdout",
     "output_type": "stream",
     "text": [
      "Device used : cuda\n",
      "epoch 0  | loss: 0.39223 | val_0_logits_ll: 0.04578 |  0:00:01s\n",
      "epoch 1  | loss: 0.03    | val_0_logits_ll: 0.02821 |  0:00:02s\n",
      "epoch 2  | loss: 0.02427 | val_0_logits_ll: 0.0216  |  0:00:04s\n",
      "epoch 3  | loss: 0.02154 | val_0_logits_ll: 0.02095 |  0:00:05s\n",
      "epoch 4  | loss: 0.02092 | val_0_logits_ll: 0.02065 |  0:00:07s\n",
      "epoch 5  | loss: 0.02061 | val_0_logits_ll: 0.02047 |  0:00:08s\n",
      "epoch 6  | loss: 0.02037 | val_0_logits_ll: 0.02028 |  0:00:10s\n",
      "epoch 7  | loss: 0.02017 | val_0_logits_ll: 0.02022 |  0:00:12s\n",
      "epoch 8  | loss: 0.01997 | val_0_logits_ll: 0.02007 |  0:00:13s\n",
      "epoch 9  | loss: 0.01967 | val_0_logits_ll: 0.01971 |  0:00:15s\n",
      "epoch 10 | loss: 0.01932 | val_0_logits_ll: 0.01952 |  0:00:16s\n",
      "epoch 11 | loss: 0.01885 | val_0_logits_ll: 0.0191  |  0:00:18s\n",
      "epoch 12 | loss: 0.01857 | val_0_logits_ll: 0.01877 |  0:00:19s\n",
      "epoch 13 | loss: 0.01828 | val_0_logits_ll: 0.0188  |  0:00:21s\n",
      "epoch 14 | loss: 0.01802 | val_0_logits_ll: 0.01938 |  0:00:23s\n",
      "epoch 15 | loss: 0.0179  | val_0_logits_ll: 0.01827 |  0:00:25s\n",
      "epoch 16 | loss: 0.01773 | val_0_logits_ll: 0.01841 |  0:00:27s\n",
      "epoch 17 | loss: 0.01755 | val_0_logits_ll: 0.01818 |  0:00:29s\n",
      "epoch 18 | loss: 0.01745 | val_0_logits_ll: 0.01792 |  0:00:31s\n",
      "epoch 19 | loss: 0.01732 | val_0_logits_ll: 0.01903 |  0:00:33s\n",
      "epoch 20 | loss: 0.01726 | val_0_logits_ll: 0.01791 |  0:00:35s\n",
      "epoch 21 | loss: 0.01714 | val_0_logits_ll: 0.01786 |  0:00:37s\n",
      "epoch 22 | loss: 0.01706 | val_0_logits_ll: 0.01928 |  0:00:38s\n",
      "epoch 23 | loss: 0.01698 | val_0_logits_ll: 0.01802 |  0:00:40s\n",
      "epoch 24 | loss: 0.01695 | val_0_logits_ll: 0.01829 |  0:00:42s\n",
      "epoch 25 | loss: 0.01689 | val_0_logits_ll: 0.01818 |  0:00:43s\n",
      "epoch 26 | loss: 0.01685 | val_0_logits_ll: 0.01819 |  0:00:45s\n",
      "epoch 27 | loss: 0.01675 | val_0_logits_ll: 0.01762 |  0:00:46s\n",
      "epoch 28 | loss: 0.01665 | val_0_logits_ll: 0.01757 |  0:00:48s\n",
      "epoch 29 | loss: 0.01662 | val_0_logits_ll: 0.0195  |  0:00:50s\n",
      "epoch 30 | loss: 0.01662 | val_0_logits_ll: 0.01776 |  0:00:51s\n",
      "epoch 31 | loss: 0.01653 | val_0_logits_ll: 0.01752 |  0:00:53s\n",
      "epoch 32 | loss: 0.01653 | val_0_logits_ll: 0.01917 |  0:00:54s\n",
      "epoch 33 | loss: 0.01644 | val_0_logits_ll: 0.01756 |  0:00:56s\n",
      "epoch 34 | loss: 0.01633 | val_0_logits_ll: 0.01744 |  0:00:58s\n",
      "epoch 35 | loss: 0.01634 | val_0_logits_ll: 0.01795 |  0:00:59s\n",
      "epoch 36 | loss: 0.01626 | val_0_logits_ll: 0.01755 |  0:01:01s\n",
      "epoch 37 | loss: 0.01629 | val_0_logits_ll: 0.01752 |  0:01:02s\n",
      "epoch 38 | loss: 0.01632 | val_0_logits_ll: 0.01869 |  0:01:04s\n",
      "epoch 39 | loss: 0.0163  | val_0_logits_ll: 0.01755 |  0:01:06s\n",
      "epoch 40 | loss: 0.01619 | val_0_logits_ll: 0.01761 |  0:01:07s\n",
      "epoch 41 | loss: 0.0162  | val_0_logits_ll: 0.01745 |  0:01:09s\n",
      "epoch 42 | loss: 0.01615 | val_0_logits_ll: 0.01809 |  0:01:10s\n",
      "epoch 43 | loss: 0.01609 | val_0_logits_ll: 0.01841 |  0:01:12s\n",
      "epoch 44 | loss: 0.01611 | val_0_logits_ll: 0.0175  |  0:01:14s\n",
      "\n",
      "Early stopping occured at epoch 44 with best_epoch = 34 and best_val_0_logits_ll = 0.01744\n",
      "Best weights from best epoch are automatically used!\n"
     ]
    }
   ],
   "source": [
    "model = TabNetRegressor(n_d=24, n_a=24, n_steps=1, lambda_sparse=0, optimizer_fn=torch.optim.Adam,\n",
    "                                    optimizer_params=dict(lr=2e-2, weight_decay=1e-5), mask_type='entmax', \n",
    "                                    scheduler_params=dict(milestones=[50, 100, 150], gamma=0.9), \n",
    "                                    scheduler_fn=torch.optim.lr_scheduler.MultiStepLR)\n",
    "model.fit(\n",
    "  X_train=train_d, y_train=lables_train,\n",
    "  eval_set=[(val, lables_val)],\n",
    "  loss_fn = torch.nn.BCEWithLogitsLoss(),\n",
    "  eval_metric = [LogitsLogLoss])"
   ]
  },
  {
   "cell_type": "code",
   "execution_count": 15,
   "metadata": {
    "execution": {
     "iopub.execute_input": "2020-10-03T15:52:54.601321Z",
     "iopub.status.busy": "2020-10-03T15:52:54.600121Z",
     "iopub.status.idle": "2020-10-03T15:52:54.695740Z",
     "shell.execute_reply": "2020-10-03T15:52:54.695173Z"
    },
    "papermill": {
     "duration": 0.126804,
     "end_time": "2020-10-03T15:52:54.695848",
     "exception": false,
     "start_time": "2020-10-03T15:52:54.569044",
     "status": "completed"
    },
    "tags": []
   },
   "outputs": [],
   "source": [
    "pred_encode = np.empty(shape = (test.shape[0], 206))\n",
    "i = 1\n",
    "for x in pred_loader:\n",
    "    x = x.to(device)\n",
    "    outputs = model.predict(x.float())\n",
    "    pred_encode[((i-1)*(outputs.shape[0])):(i*(outputs.shape[0])), ::] = 1 / (1 + np.exp(-outputs))\n",
    "    i += 1"
   ]
  },
  {
   "cell_type": "code",
   "execution_count": 16,
   "metadata": {
    "execution": {
     "iopub.execute_input": "2020-10-03T15:52:54.751705Z",
     "iopub.status.busy": "2020-10-03T15:52:54.751027Z",
     "iopub.status.idle": "2020-10-03T15:52:54.790527Z",
     "shell.execute_reply": "2020-10-03T15:52:54.789901Z"
    },
    "papermill": {
     "duration": 0.071463,
     "end_time": "2020-10-03T15:52:54.790658",
     "exception": false,
     "start_time": "2020-10-03T15:52:54.719195",
     "status": "completed"
    },
    "tags": []
   },
   "outputs": [
    {
     "data": {
      "text/html": [
       "<div>\n",
       "<style scoped>\n",
       "    .dataframe tbody tr th:only-of-type {\n",
       "        vertical-align: middle;\n",
       "    }\n",
       "\n",
       "    .dataframe tbody tr th {\n",
       "        vertical-align: top;\n",
       "    }\n",
       "\n",
       "    .dataframe thead th {\n",
       "        text-align: right;\n",
       "    }\n",
       "</style>\n",
       "<table border=\"1\" class=\"dataframe\">\n",
       "  <thead>\n",
       "    <tr style=\"text-align: right;\">\n",
       "      <th></th>\n",
       "      <th>sig_id</th>\n",
       "      <th>5-alpha_reductase_inhibitor</th>\n",
       "      <th>11-beta-hsd1_inhibitor</th>\n",
       "      <th>acat_inhibitor</th>\n",
       "      <th>acetylcholine_receptor_agonist</th>\n",
       "      <th>acetylcholine_receptor_antagonist</th>\n",
       "      <th>acetylcholinesterase_inhibitor</th>\n",
       "      <th>adenosine_receptor_agonist</th>\n",
       "      <th>adenosine_receptor_antagonist</th>\n",
       "      <th>adenylyl_cyclase_activator</th>\n",
       "      <th>...</th>\n",
       "      <th>tropomyosin_receptor_kinase_inhibitor</th>\n",
       "      <th>trpv_agonist</th>\n",
       "      <th>trpv_antagonist</th>\n",
       "      <th>tubulin_inhibitor</th>\n",
       "      <th>tyrosine_kinase_inhibitor</th>\n",
       "      <th>ubiquitin_specific_protease_inhibitor</th>\n",
       "      <th>vegfr_inhibitor</th>\n",
       "      <th>vitamin_b</th>\n",
       "      <th>vitamin_d_receptor_agonist</th>\n",
       "      <th>wnt_inhibitor</th>\n",
       "    </tr>\n",
       "  </thead>\n",
       "  <tbody>\n",
       "    <tr>\n",
       "      <th>0</th>\n",
       "      <td>id_0004d9e33</td>\n",
       "      <td>0.001554</td>\n",
       "      <td>0.001120</td>\n",
       "      <td>0.001497</td>\n",
       "      <td>0.015675</td>\n",
       "      <td>0.02769</td>\n",
       "      <td>0.005411</td>\n",
       "      <td>0.005293</td>\n",
       "      <td>0.001565</td>\n",
       "      <td>0.000248</td>\n",
       "      <td>...</td>\n",
       "      <td>0.000528</td>\n",
       "      <td>0.000452</td>\n",
       "      <td>0.001787</td>\n",
       "      <td>0.002967</td>\n",
       "      <td>0.000658</td>\n",
       "      <td>0.000492</td>\n",
       "      <td>0.000308</td>\n",
       "      <td>0.002370</td>\n",
       "      <td>0.000235</td>\n",
       "      <td>0.001286</td>\n",
       "    </tr>\n",
       "    <tr>\n",
       "      <th>1</th>\n",
       "      <td>id_001897cda</td>\n",
       "      <td>0.001802</td>\n",
       "      <td>0.001347</td>\n",
       "      <td>0.001388</td>\n",
       "      <td>0.011787</td>\n",
       "      <td>0.03089</td>\n",
       "      <td>0.005393</td>\n",
       "      <td>0.002957</td>\n",
       "      <td>0.003811</td>\n",
       "      <td>0.000324</td>\n",
       "      <td>...</td>\n",
       "      <td>0.000636</td>\n",
       "      <td>0.000607</td>\n",
       "      <td>0.002128</td>\n",
       "      <td>0.001614</td>\n",
       "      <td>0.001229</td>\n",
       "      <td>0.000605</td>\n",
       "      <td>0.000737</td>\n",
       "      <td>0.002173</td>\n",
       "      <td>0.000295</td>\n",
       "      <td>0.001305</td>\n",
       "    </tr>\n",
       "    <tr>\n",
       "      <th>2</th>\n",
       "      <td>id_002429b5b</td>\n",
       "      <td>0.000000</td>\n",
       "      <td>0.000000</td>\n",
       "      <td>0.000000</td>\n",
       "      <td>0.000000</td>\n",
       "      <td>0.00000</td>\n",
       "      <td>0.000000</td>\n",
       "      <td>0.000000</td>\n",
       "      <td>0.000000</td>\n",
       "      <td>0.000000</td>\n",
       "      <td>...</td>\n",
       "      <td>0.000000</td>\n",
       "      <td>0.000000</td>\n",
       "      <td>0.000000</td>\n",
       "      <td>0.000000</td>\n",
       "      <td>0.000000</td>\n",
       "      <td>0.000000</td>\n",
       "      <td>0.000000</td>\n",
       "      <td>0.000000</td>\n",
       "      <td>0.000000</td>\n",
       "      <td>0.000000</td>\n",
       "    </tr>\n",
       "  </tbody>\n",
       "</table>\n",
       "<p>3 rows × 207 columns</p>\n",
       "</div>"
      ],
      "text/plain": [
       "         sig_id  5-alpha_reductase_inhibitor  11-beta-hsd1_inhibitor  \\\n",
       "0  id_0004d9e33                     0.001554                0.001120   \n",
       "1  id_001897cda                     0.001802                0.001347   \n",
       "2  id_002429b5b                     0.000000                0.000000   \n",
       "\n",
       "   acat_inhibitor  acetylcholine_receptor_agonist  \\\n",
       "0        0.001497                        0.015675   \n",
       "1        0.001388                        0.011787   \n",
       "2        0.000000                        0.000000   \n",
       "\n",
       "   acetylcholine_receptor_antagonist  acetylcholinesterase_inhibitor  \\\n",
       "0                            0.02769                        0.005411   \n",
       "1                            0.03089                        0.005393   \n",
       "2                            0.00000                        0.000000   \n",
       "\n",
       "   adenosine_receptor_agonist  adenosine_receptor_antagonist  \\\n",
       "0                    0.005293                       0.001565   \n",
       "1                    0.002957                       0.003811   \n",
       "2                    0.000000                       0.000000   \n",
       "\n",
       "   adenylyl_cyclase_activator  ...  tropomyosin_receptor_kinase_inhibitor  \\\n",
       "0                    0.000248  ...                               0.000528   \n",
       "1                    0.000324  ...                               0.000636   \n",
       "2                    0.000000  ...                               0.000000   \n",
       "\n",
       "   trpv_agonist  trpv_antagonist  tubulin_inhibitor  \\\n",
       "0      0.000452         0.001787           0.002967   \n",
       "1      0.000607         0.002128           0.001614   \n",
       "2      0.000000         0.000000           0.000000   \n",
       "\n",
       "   tyrosine_kinase_inhibitor  ubiquitin_specific_protease_inhibitor  \\\n",
       "0                   0.000658                               0.000492   \n",
       "1                   0.001229                               0.000605   \n",
       "2                   0.000000                               0.000000   \n",
       "\n",
       "   vegfr_inhibitor  vitamin_b  vitamin_d_receptor_agonist  wnt_inhibitor  \n",
       "0         0.000308   0.002370                    0.000235       0.001286  \n",
       "1         0.000737   0.002173                    0.000295       0.001305  \n",
       "2         0.000000   0.000000                    0.000000       0.000000  \n",
       "\n",
       "[3 rows x 207 columns]"
      ]
     },
     "execution_count": 16,
     "metadata": {},
     "output_type": "execute_result"
    }
   ],
   "source": [
    "# take a copy of all our training sig_ids for reference\n",
    "test_sig_ids = test_features['sig_id'].copy()\n",
    "\n",
    "# select all indices when 'cp_type' is 'ctl_vehicle'\n",
    "test_ctl_vehicle_idx = (test_features['cp_type'] == 'ctl_vehicle')\n",
    "\n",
    "# change all cp_type == ctl_vehicle predictions to zero\n",
    "pred_encode[test_sig_ids[test_ctl_vehicle_idx].index.values] = 0\n",
    "test_submission = pd.DataFrame({'sig_id' : test_sig_ids})\n",
    "test_preds_df = pd.DataFrame(pred_encode, columns=train_targets_scored.columns[1:])\n",
    "test_submission = pd.concat([test_submission, test_preds_df], axis=1)\n",
    "test_submission.head(3)"
   ]
  },
  {
   "cell_type": "code",
   "execution_count": 17,
   "metadata": {
    "execution": {
     "iopub.execute_input": "2020-10-03T15:52:54.849482Z",
     "iopub.status.busy": "2020-10-03T15:52:54.848574Z",
     "iopub.status.idle": "2020-10-03T15:52:57.019352Z",
     "shell.execute_reply": "2020-10-03T15:52:57.018223Z"
    },
    "papermill": {
     "duration": 2.202021,
     "end_time": "2020-10-03T15:52:57.019481",
     "exception": false,
     "start_time": "2020-10-03T15:52:54.817460",
     "status": "completed"
    },
    "tags": []
   },
   "outputs": [],
   "source": [
    "test_submission.to_csv('submission.csv', index=False)"
   ]
  }
 ],
 "metadata": {
  "kernelspec": {
   "display_name": "Python 3",
   "language": "python",
   "name": "python3"
  },
  "language_info": {
   "codemirror_mode": {
    "name": "ipython",
    "version": 3
   },
   "file_extension": ".py",
   "mimetype": "text/x-python",
   "name": "python",
   "nbconvert_exporter": "python",
   "pygments_lexer": "ipython3",
   "version": "3.7.6"
  },
  "papermill": {
   "duration": 54.879322,
   "end_time": "2020-10-03T15:52:58.256922",
   "environment_variables": {},
   "exception": null,
   "input_path": "__notebook__.ipynb",
   "output_path": "__notebook__.ipynb",
   "parameters": {},
   "start_time": "2020-10-03T15:52:03.377600",
   "version": "2.1.0"
  }
 },
 "nbformat": 4,
 "nbformat_minor": 4
}
